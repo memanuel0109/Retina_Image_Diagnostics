{
 "cells": [
  {
   "cell_type": "code",
   "execution_count": 2,
   "metadata": {},
   "outputs": [],
   "source": [
    "import tensorflow as tf\n",
    "import keras \n",
    "from keras import backend as K\n",
    "import numpy as np\n",
    "\n",
    "from keras.models import Sequential\n",
    "from keras.layers import Conv2D,MaxPooling2D,Flatten,Dense,Activation\n",
    "from keras.optimizers import Adam\n",
    "from keras.metrics import categorical_crossentropy\n",
    "\n",
    "from keras.preprocessing.image import ImageDataGenerator\n",
    "from keras.layers.normalization import BatchNormalization\n",
    "from keras.applications.inception_v3 import preprocess_input\n",
    "from keras.utils import to_categorical\n",
    "\n",
    "from skimage import color, filters, exposure, morphology\n",
    "\n",
    "from sklearn.metrics import confusion_matrix\n",
    "\n",
    "import os\n",
    "import glob\n",
    "\n",
    "from warnings import simplefilter\n",
    "simplefilter(action='ignore', category=FutureWarning)\n",
    "\n",
    "import matplotlib.pyplot as plt\n",
    "import seaborn as sns\n",
    "%matplotlib inline"
   ]
  },
  {
   "cell_type": "code",
   "execution_count": 4,
   "metadata": {},
   "outputs": [
    {
     "data": {
      "text/plain": [
       "'2.3.1'"
      ]
     },
     "execution_count": 4,
     "metadata": {},
     "output_type": "execute_result"
    }
   ],
   "source": [
    "tf.__version__"
   ]
  },
  {
   "cell_type": "code",
   "execution_count": 5,
   "metadata": {},
   "outputs": [],
   "source": [
    "train_path = '../data/MESSIDOR_images/filtered/train'\n",
    "val_path = '../data/MESSIDOR_images/filtered/val'\n",
    "test_path = '../data/MESSIDOR_images/filtered/test'"
   ]
  },
  {
   "cell_type": "code",
   "execution_count": 6,
   "metadata": {},
   "outputs": [
    {
     "name": "stdout",
     "output_type": "stream",
     "text": [
      "Found 959 images belonging to 2 classes.\n",
      "Found 122 images belonging to 2 classes.\n",
      "Found 119 images belonging to 2 classes.\n"
     ]
    }
   ],
   "source": [
    "train_batches = ImageDataGenerator(rescale=1./255)\\\n",
    "    .flow_from_directory(directory=train_path, target_size=(512, 512), color_mode='rgb', classes=['0','1'],\n",
    "                         batch_size=len(glob.glob(train_path+'/*/*')), seed=9)\n",
    "\n",
    "test_batches = ImageDataGenerator(rescale=1./255)\\\n",
    "    .flow_from_directory(directory=test_path, target_size=(512, 512), color_mode='rgb', classes=['0','1'],\n",
    "                         batch_size=len(glob.glob(test_path+'/*/*')), seed=9)\n",
    "\n",
    "val_batches = ImageDataGenerator(rescale=1./255)\\\n",
    "    .flow_from_directory(directory=val_path, target_size=(512, 512), color_mode='rgb', classes=['0','1'],\n",
    "                         batch_size=len(glob.glob(val_path+'/*/*')), seed=9)"
   ]
  },
  {
   "cell_type": "code",
   "execution_count": 7,
   "metadata": {},
   "outputs": [],
   "source": [
    "train_image, train_label = next(train_batches)\n",
    "test_image, test_label = next(test_batches)\n",
    "val_image, val_label = next(val_batches)"
   ]
  },
  {
   "cell_type": "code",
   "execution_count": null,
   "metadata": {},
   "outputs": [],
   "source": []
  }
 ],
 "metadata": {
  "kernelspec": {
   "display_name": "Python 3",
   "language": "python",
   "name": "python3"
  },
  "language_info": {
   "codemirror_mode": {
    "name": "ipython",
    "version": 3
   },
   "file_extension": ".py",
   "mimetype": "text/x-python",
   "name": "python",
   "nbconvert_exporter": "python",
   "pygments_lexer": "ipython3",
   "version": "3.7.6"
  }
 },
 "nbformat": 4,
 "nbformat_minor": 4
}

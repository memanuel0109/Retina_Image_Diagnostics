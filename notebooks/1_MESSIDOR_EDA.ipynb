{
 "cells": [
  {
   "cell_type": "code",
   "execution_count": 1,
   "metadata": {},
   "outputs": [],
   "source": [
    "import glob\n",
    "import numpy as np\n",
    "import pandas as pd\n",
    "\n",
    "import matplotlib.pyplot as plt\n",
    "import seaborn as sns\n",
    "\n",
    "import warnings\n",
    "warnings.filterwarnings('ignore')\n",
    "\n",
    "# brown and blue color pallette\n",
    "sns.set_palette(sns.color_palette(sns.diverging_palette(250, 30, l=65, center=\"dark\")))\n",
    "sns.set_context('notebook')\n",
    "sns.set_style('darkgrid')"
   ]
  },
  {
   "cell_type": "markdown",
   "metadata": {},
   "source": [
    "# File Exploration"
   ]
  },
  {
   "cell_type": "code",
   "execution_count": 2,
   "metadata": {},
   "outputs": [],
   "source": [
    "# all image file descriptions\n",
    "base11 = pd.read_excel('../data/MESSIDOR_images/Base11/Annotation_Base11.xls')\n",
    "base12 = pd.read_excel('../data/MESSIDOR_images/Base12/Annotation_Base12.xls')\n",
    "base13 = pd.read_excel('../data/MESSIDOR_images/Base13/Annotation_Base13.xls')\n",
    "base14 = pd.read_excel('../data/MESSIDOR_images/Base14/Annotation_Base14.xls')\n",
    "\n",
    "base21 = pd.read_excel('../data/MESSIDOR_images/Base21/Annotation_Base21.xls')\n",
    "base22 = pd.read_excel('../data/MESSIDOR_images/Base22/Annotation_Base22.xls')\n",
    "base23 = pd.read_excel('../data/MESSIDOR_images/Base23/Annotation_Base23.xls')\n",
    "base24 = pd.read_excel('../data/MESSIDOR_images/Base24/Annotation_Base24.xls')\n",
    "\n",
    "base31 = pd.read_excel('../data/MESSIDOR_images/Base31/Annotation_Base31.xls')\n",
    "base32 = pd.read_excel('../data/MESSIDOR_images/Base32/Annotation_Base32.xls')\n",
    "base33 = pd.read_excel('../data/MESSIDOR_images/Base33/Annotation_Base33.xls')\n",
    "base34 = pd.read_excel('../data/MESSIDOR_images/Base34/Annotation_Base34.xls')"
   ]
  },
  {
   "cell_type": "code",
   "execution_count": 3,
   "metadata": {},
   "outputs": [],
   "source": [
    "# combine all files to one dataframe\n",
    "df = pd.concat([base11,base12,base13,base14,base21,base22,base23,base24,base31,base32,base33,base34])"
   ]
  },
  {
   "cell_type": "code",
   "execution_count": 4,
   "metadata": {},
   "outputs": [
    {
     "data": {
      "text/html": [
       "<div>\n",
       "<style scoped>\n",
       "    .dataframe tbody tr th:only-of-type {\n",
       "        vertical-align: middle;\n",
       "    }\n",
       "\n",
       "    .dataframe tbody tr th {\n",
       "        vertical-align: top;\n",
       "    }\n",
       "\n",
       "    .dataframe thead th {\n",
       "        text-align: right;\n",
       "    }\n",
       "</style>\n",
       "<table border=\"1\" class=\"dataframe\">\n",
       "  <thead>\n",
       "    <tr style=\"text-align: right;\">\n",
       "      <th></th>\n",
       "      <th>Image name</th>\n",
       "      <th>Ophthalmologic department</th>\n",
       "      <th>Retinopathy grade</th>\n",
       "      <th>Risk of macular edema</th>\n",
       "    </tr>\n",
       "  </thead>\n",
       "  <tbody>\n",
       "    <tr>\n",
       "      <th>0</th>\n",
       "      <td>20051019_38557_0100_PP.tif</td>\n",
       "      <td>Service Ophtalmologie Lariboisière</td>\n",
       "      <td>3</td>\n",
       "      <td>1</td>\n",
       "    </tr>\n",
       "    <tr>\n",
       "      <th>1</th>\n",
       "      <td>20051020_43808_0100_PP.tif</td>\n",
       "      <td>Service Ophtalmologie Lariboisière</td>\n",
       "      <td>0</td>\n",
       "      <td>0</td>\n",
       "    </tr>\n",
       "    <tr>\n",
       "      <th>2</th>\n",
       "      <td>20051020_43832_0100_PP.tif</td>\n",
       "      <td>Service Ophtalmologie Lariboisière</td>\n",
       "      <td>1</td>\n",
       "      <td>0</td>\n",
       "    </tr>\n",
       "    <tr>\n",
       "      <th>3</th>\n",
       "      <td>20051020_43882_0100_PP.tif</td>\n",
       "      <td>Service Ophtalmologie Lariboisière</td>\n",
       "      <td>2</td>\n",
       "      <td>0</td>\n",
       "    </tr>\n",
       "    <tr>\n",
       "      <th>4</th>\n",
       "      <td>20051020_43906_0100_PP.tif</td>\n",
       "      <td>Service Ophtalmologie Lariboisière</td>\n",
       "      <td>3</td>\n",
       "      <td>2</td>\n",
       "    </tr>\n",
       "  </tbody>\n",
       "</table>\n",
       "</div>"
      ],
      "text/plain": [
       "                   Image name           Ophthalmologic department  \\\n",
       "0  20051019_38557_0100_PP.tif  Service Ophtalmologie Lariboisière   \n",
       "1  20051020_43808_0100_PP.tif  Service Ophtalmologie Lariboisière   \n",
       "2  20051020_43832_0100_PP.tif  Service Ophtalmologie Lariboisière   \n",
       "3  20051020_43882_0100_PP.tif  Service Ophtalmologie Lariboisière   \n",
       "4  20051020_43906_0100_PP.tif  Service Ophtalmologie Lariboisière   \n",
       "\n",
       "   Retinopathy grade  Risk of macular edema   \n",
       "0                  3                       1  \n",
       "1                  0                       0  \n",
       "2                  1                       0  \n",
       "3                  2                       0  \n",
       "4                  3                       2  "
      ]
     },
     "execution_count": 4,
     "metadata": {},
     "output_type": "execute_result"
    }
   ],
   "source": [
    "df.head()"
   ]
  },
  {
   "cell_type": "markdown",
   "metadata": {},
   "source": [
    "# Fix Grading Mistakes"
   ]
  },
  {
   "cell_type": "code",
   "execution_count": 5,
   "metadata": {},
   "outputs": [],
   "source": [
    "mistakes = ['20051020_64007_0100_PP.tif', '20051020_63936_0100_PP.tif', '20060523_48477_0100_PP.tif',\n",
    "           '20051020_63045_0100_PP.tif']\n",
    "value_replacements = [3,1,3,0]"
   ]
  },
  {
   "cell_type": "code",
   "execution_count": 6,
   "metadata": {},
   "outputs": [
    {
     "data": {
      "text/html": [
       "<div>\n",
       "<style scoped>\n",
       "    .dataframe tbody tr th:only-of-type {\n",
       "        vertical-align: middle;\n",
       "    }\n",
       "\n",
       "    .dataframe tbody tr th {\n",
       "        vertical-align: top;\n",
       "    }\n",
       "\n",
       "    .dataframe thead th {\n",
       "        text-align: right;\n",
       "    }\n",
       "</style>\n",
       "<table border=\"1\" class=\"dataframe\">\n",
       "  <thead>\n",
       "    <tr style=\"text-align: right;\">\n",
       "      <th></th>\n",
       "      <th>Image name</th>\n",
       "      <th>Ophthalmologic department</th>\n",
       "      <th>Retinopathy grade</th>\n",
       "      <th>Risk of macular edema</th>\n",
       "    </tr>\n",
       "  </thead>\n",
       "  <tbody>\n",
       "    <tr>\n",
       "      <th>59</th>\n",
       "      <td>20051020_63045_0100_PP.tif</td>\n",
       "      <td>Service Ophtalmologie Lariboisière</td>\n",
       "      <td>3</td>\n",
       "      <td>0</td>\n",
       "    </tr>\n",
       "    <tr>\n",
       "      <th>65</th>\n",
       "      <td>20051020_63936_0100_PP.tif</td>\n",
       "      <td>Service Ophtalmologie Lariboisière</td>\n",
       "      <td>3</td>\n",
       "      <td>2</td>\n",
       "    </tr>\n",
       "    <tr>\n",
       "      <th>66</th>\n",
       "      <td>20051020_64007_0100_PP.tif</td>\n",
       "      <td>Service Ophtalmologie Lariboisière</td>\n",
       "      <td>1</td>\n",
       "      <td>2</td>\n",
       "    </tr>\n",
       "    <tr>\n",
       "      <th>66</th>\n",
       "      <td>20060523_48477_0100_PP.tif</td>\n",
       "      <td>Service Ophtalmologie Lariboisière</td>\n",
       "      <td>2</td>\n",
       "      <td>0</td>\n",
       "    </tr>\n",
       "  </tbody>\n",
       "</table>\n",
       "</div>"
      ],
      "text/plain": [
       "                    Image name           Ophthalmologic department  \\\n",
       "59  20051020_63045_0100_PP.tif  Service Ophtalmologie Lariboisière   \n",
       "65  20051020_63936_0100_PP.tif  Service Ophtalmologie Lariboisière   \n",
       "66  20051020_64007_0100_PP.tif  Service Ophtalmologie Lariboisière   \n",
       "66  20060523_48477_0100_PP.tif  Service Ophtalmologie Lariboisière   \n",
       "\n",
       "    Retinopathy grade  Risk of macular edema   \n",
       "59                  3                       0  \n",
       "65                  3                       2  \n",
       "66                  1                       2  \n",
       "66                  2                       0  "
      ]
     },
     "execution_count": 6,
     "metadata": {},
     "output_type": "execute_result"
    }
   ],
   "source": [
    "mistake_df = df[df['Image name'].isin(mistakes)]\n",
    "mistake_df"
   ]
  },
  {
   "cell_type": "code",
   "execution_count": 7,
   "metadata": {},
   "outputs": [],
   "source": [
    "indexer = 0\n",
    "for mistake in mistakes:\n",
    "    df['Retinopathy grade'][df['Image name'] == mistake] = value_replacements[indexer]\n",
    "    indexer += 1"
   ]
  },
  {
   "cell_type": "code",
   "execution_count": 8,
   "metadata": {},
   "outputs": [
    {
     "data": {
      "text/html": [
       "<div>\n",
       "<style scoped>\n",
       "    .dataframe tbody tr th:only-of-type {\n",
       "        vertical-align: middle;\n",
       "    }\n",
       "\n",
       "    .dataframe tbody tr th {\n",
       "        vertical-align: top;\n",
       "    }\n",
       "\n",
       "    .dataframe thead th {\n",
       "        text-align: right;\n",
       "    }\n",
       "</style>\n",
       "<table border=\"1\" class=\"dataframe\">\n",
       "  <thead>\n",
       "    <tr style=\"text-align: right;\">\n",
       "      <th></th>\n",
       "      <th>Image name</th>\n",
       "      <th>Ophthalmologic department</th>\n",
       "      <th>Retinopathy grade</th>\n",
       "      <th>Risk of macular edema</th>\n",
       "    </tr>\n",
       "  </thead>\n",
       "  <tbody>\n",
       "    <tr>\n",
       "      <th>59</th>\n",
       "      <td>20051020_63045_0100_PP.tif</td>\n",
       "      <td>Service Ophtalmologie Lariboisière</td>\n",
       "      <td>0</td>\n",
       "      <td>0</td>\n",
       "    </tr>\n",
       "    <tr>\n",
       "      <th>65</th>\n",
       "      <td>20051020_63936_0100_PP.tif</td>\n",
       "      <td>Service Ophtalmologie Lariboisière</td>\n",
       "      <td>1</td>\n",
       "      <td>2</td>\n",
       "    </tr>\n",
       "    <tr>\n",
       "      <th>66</th>\n",
       "      <td>20051020_64007_0100_PP.tif</td>\n",
       "      <td>Service Ophtalmologie Lariboisière</td>\n",
       "      <td>3</td>\n",
       "      <td>2</td>\n",
       "    </tr>\n",
       "    <tr>\n",
       "      <th>66</th>\n",
       "      <td>20060523_48477_0100_PP.tif</td>\n",
       "      <td>Service Ophtalmologie Lariboisière</td>\n",
       "      <td>3</td>\n",
       "      <td>0</td>\n",
       "    </tr>\n",
       "  </tbody>\n",
       "</table>\n",
       "</div>"
      ],
      "text/plain": [
       "                    Image name           Ophthalmologic department  \\\n",
       "59  20051020_63045_0100_PP.tif  Service Ophtalmologie Lariboisière   \n",
       "65  20051020_63936_0100_PP.tif  Service Ophtalmologie Lariboisière   \n",
       "66  20051020_64007_0100_PP.tif  Service Ophtalmologie Lariboisière   \n",
       "66  20060523_48477_0100_PP.tif  Service Ophtalmologie Lariboisière   \n",
       "\n",
       "    Retinopathy grade  Risk of macular edema   \n",
       "59                  0                       0  \n",
       "65                  1                       2  \n",
       "66                  3                       2  \n",
       "66                  3                       0  "
      ]
     },
     "execution_count": 8,
     "metadata": {},
     "output_type": "execute_result"
    }
   ],
   "source": [
    "df[df['Image name'].isin(mistakes)]"
   ]
  },
  {
   "cell_type": "markdown",
   "metadata": {},
   "source": [
    "# Data Exploration"
   ]
  },
  {
   "cell_type": "code",
   "execution_count": 9,
   "metadata": {},
   "outputs": [
    {
     "name": "stdout",
     "output_type": "stream",
     "text": [
      "<class 'pandas.core.frame.DataFrame'>\n",
      "Int64Index: 1200 entries, 0 to 99\n",
      "Data columns (total 4 columns):\n",
      " #   Column                     Non-Null Count  Dtype \n",
      "---  ------                     --------------  ----- \n",
      " 0   Image name                 1200 non-null   object\n",
      " 1   Ophthalmologic department  1200 non-null   object\n",
      " 2   Retinopathy grade          1200 non-null   int64 \n",
      " 3   Risk of macular edema      1200 non-null   int64 \n",
      "dtypes: int64(2), object(2)\n",
      "memory usage: 46.9+ KB\n"
     ]
    }
   ],
   "source": [
    "df.info()"
   ]
  },
  {
   "cell_type": "code",
   "execution_count": 10,
   "metadata": {},
   "outputs": [
    {
     "data": {
      "text/plain": [
       "count    1200.000000\n",
       "mean        1.172500\n",
       "std         1.216132\n",
       "min         0.000000\n",
       "25%         0.000000\n",
       "50%         1.000000\n",
       "75%         2.000000\n",
       "max         3.000000\n",
       "Name: Retinopathy grade, dtype: float64"
      ]
     },
     "execution_count": 10,
     "metadata": {},
     "output_type": "execute_result"
    }
   ],
   "source": [
    "df['Retinopathy grade'].describe()"
   ]
  },
  {
   "cell_type": "code",
   "execution_count": 11,
   "metadata": {},
   "outputs": [
    {
     "data": {
      "text/plain": [
       "count    1200.000000\n",
       "mean        0.314167\n",
       "std         0.683756\n",
       "min         0.000000\n",
       "25%         0.000000\n",
       "50%         0.000000\n",
       "75%         0.000000\n",
       "max         2.000000\n",
       "Name: Risk of macular edema , dtype: float64"
      ]
     },
     "execution_count": 11,
     "metadata": {},
     "output_type": "execute_result"
    }
   ],
   "source": [
    "df['Risk of macular edema '].describe()"
   ]
  },
  {
   "cell_type": "code",
   "execution_count": 12,
   "metadata": {},
   "outputs": [
    {
     "name": "stdout",
     "output_type": "stream",
     "text": [
      "[3, 0, 1, 2, 3, 0, 0, 0, 3, 0]\n",
      "[1, 0, 1, 1, 1, 0, 0, 0, 1, 0]\n"
     ]
    }
   ],
   "source": [
    "# convert diagnoses to binary code\n",
    "binary_grade = []\n",
    "for grade in df['Retinopathy grade']:\n",
    "    if grade == 0:\n",
    "        binary_grade.append(0)\n",
    "    else:\n",
    "        binary_grade.append(1)\n",
    "        \n",
    "print(list(df['Retinopathy grade'][:10]))\n",
    "print(binary_grade[:10])\n",
    "\n",
    "df['Binary grade'] = binary_grade"
   ]
  },
  {
   "cell_type": "code",
   "execution_count": 13,
   "metadata": {},
   "outputs": [
    {
     "data": {
      "text/html": [
       "<div>\n",
       "<style scoped>\n",
       "    .dataframe tbody tr th:only-of-type {\n",
       "        vertical-align: middle;\n",
       "    }\n",
       "\n",
       "    .dataframe tbody tr th {\n",
       "        vertical-align: top;\n",
       "    }\n",
       "\n",
       "    .dataframe thead th {\n",
       "        text-align: right;\n",
       "    }\n",
       "</style>\n",
       "<table border=\"1\" class=\"dataframe\">\n",
       "  <thead>\n",
       "    <tr style=\"text-align: right;\">\n",
       "      <th></th>\n",
       "      <th>Image name</th>\n",
       "      <th>Ophthalmologic department</th>\n",
       "      <th>Retinopathy grade</th>\n",
       "      <th>Risk of macular edema</th>\n",
       "      <th>Binary grade</th>\n",
       "    </tr>\n",
       "  </thead>\n",
       "  <tbody>\n",
       "    <tr>\n",
       "      <th>0</th>\n",
       "      <td>20051019_38557_0100_PP.tif</td>\n",
       "      <td>Service Ophtalmologie Lariboisière</td>\n",
       "      <td>3</td>\n",
       "      <td>1</td>\n",
       "      <td>1</td>\n",
       "    </tr>\n",
       "    <tr>\n",
       "      <th>1</th>\n",
       "      <td>20051020_43808_0100_PP.tif</td>\n",
       "      <td>Service Ophtalmologie Lariboisière</td>\n",
       "      <td>0</td>\n",
       "      <td>0</td>\n",
       "      <td>0</td>\n",
       "    </tr>\n",
       "    <tr>\n",
       "      <th>2</th>\n",
       "      <td>20051020_43832_0100_PP.tif</td>\n",
       "      <td>Service Ophtalmologie Lariboisière</td>\n",
       "      <td>1</td>\n",
       "      <td>0</td>\n",
       "      <td>1</td>\n",
       "    </tr>\n",
       "    <tr>\n",
       "      <th>3</th>\n",
       "      <td>20051020_43882_0100_PP.tif</td>\n",
       "      <td>Service Ophtalmologie Lariboisière</td>\n",
       "      <td>2</td>\n",
       "      <td>0</td>\n",
       "      <td>1</td>\n",
       "    </tr>\n",
       "    <tr>\n",
       "      <th>4</th>\n",
       "      <td>20051020_43906_0100_PP.tif</td>\n",
       "      <td>Service Ophtalmologie Lariboisière</td>\n",
       "      <td>3</td>\n",
       "      <td>2</td>\n",
       "      <td>1</td>\n",
       "    </tr>\n",
       "  </tbody>\n",
       "</table>\n",
       "</div>"
      ],
      "text/plain": [
       "                   Image name           Ophthalmologic department  \\\n",
       "0  20051019_38557_0100_PP.tif  Service Ophtalmologie Lariboisière   \n",
       "1  20051020_43808_0100_PP.tif  Service Ophtalmologie Lariboisière   \n",
       "2  20051020_43832_0100_PP.tif  Service Ophtalmologie Lariboisière   \n",
       "3  20051020_43882_0100_PP.tif  Service Ophtalmologie Lariboisière   \n",
       "4  20051020_43906_0100_PP.tif  Service Ophtalmologie Lariboisière   \n",
       "\n",
       "   Retinopathy grade  Risk of macular edema   Binary grade  \n",
       "0                  3                       1             1  \n",
       "1                  0                       0             0  \n",
       "2                  1                       0             1  \n",
       "3                  2                       0             1  \n",
       "4                  3                       2             1  "
      ]
     },
     "execution_count": 13,
     "metadata": {},
     "output_type": "execute_result"
    }
   ],
   "source": [
    "df.head()"
   ]
  },
  {
   "cell_type": "code",
   "execution_count": 14,
   "metadata": {},
   "outputs": [],
   "source": [
    "# split data frames by grade\n",
    "no_dr = df[df['Retinopathy grade'] == 0]\n",
    "mild_dr = df[df['Retinopathy grade'] == 1]\n",
    "moderate_dr = df[df['Retinopathy grade'] == 2]\n",
    "severe_dr = df[df['Retinopathy grade'] == 3]"
   ]
  },
  {
   "cell_type": "code",
   "execution_count": 15,
   "metadata": {},
   "outputs": [],
   "source": [
    "dataframes = [no_dr, mild_dr, moderate_dr, severe_dr, df]\n",
    "names = ['no_dr', 'mild_dr', 'moderate_dr', 'severe_dr', 'final_df']"
   ]
  },
  {
   "cell_type": "code",
   "execution_count": 16,
   "metadata": {},
   "outputs": [],
   "source": [
    "# export each df as it's own csv file\n",
    "for name, dataframe in zip(names, dataframes):\n",
    "    out_csv = '../data/{}.csv'.format(name)\n",
    "    dataframe.to_csv(out_csv)"
   ]
  },
  {
   "cell_type": "code",
   "execution_count": 17,
   "metadata": {},
   "outputs": [
    {
     "data": {
      "image/png": "[encoded data removed]",
      "text/plain": [
       "<Figure size 360x360 with 1 Axes>"
      ]
     },
     "metadata": {},
     "output_type": "display_data"
    }
   ],
   "source": [
    "f = sns.catplot(x='Retinopathy grade', data=df, kind='count')\n",
    "f.fig.suptitle('Number of Cases by Grade', y=1.03, x=0.54)\n",
    "plt.savefig('../figures/number_of_cases.png', bbox_inches='tight', pad_inches=0.5)"
   ]
  },
  {
   "cell_type": "code",
   "execution_count": 18,
   "metadata": {},
   "outputs": [
    {
     "data": {
      "image/png": "[encoded data removed]",
      "text/plain": [
       "<Figure size 360x360 with 1 Axes>"
      ]
     },
     "metadata": {},
     "output_type": "display_data"
    }
   ],
   "source": [
    "f = sns.catplot(x='Binary grade', data=df, kind='count')\n",
    "f.fig.suptitle('No DR vs With DR', y=1.03, x=0.55)\n",
    "plt.savefig('../figures/binary_classification.png', bbox_inches='tight', pad_inches=0.5)"
   ]
  },
  {
   "cell_type": "code",
   "execution_count": 19,
   "metadata": {},
   "outputs": [
    {
     "name": "stdout",
     "output_type": "stream",
     "text": [
      "There are 1200 total eyes.\n",
      "There are 653 eyes with diabteic retinopathy.\n",
      "There are 547 eyes without diabteic retinopathy.\n"
     ]
    }
   ],
   "source": [
    "print('There are {} total eyes.'.format(len(df)))\n",
    "print('There are {} eyes with diabteic retinopathy.'.format(len(df[df['Binary grade'] == 1])))\n",
    "print('There are {} eyes without diabteic retinopathy.'.format(len(df[df['Binary grade'] == 0])))"
   ]
  },
  {
   "cell_type": "code",
   "execution_count": 20,
   "metadata": {},
   "outputs": [
    {
     "data": {
      "image/png": "[encoded data removed]",
      "text/plain": [
       "<Figure size 1440x360 with 4 Axes>"
      ]
     },
     "metadata": {},
     "output_type": "display_data"
    }
   ],
   "source": [
    "f = sns.catplot(x='Risk of macular edema ', data=df, kind='count', col='Retinopathy grade')\n",
    "plt.savefig('../figures/edema_by_grade.png', bbox_inches='tight', pad_inches=0.5)"
   ]
  },
  {
   "cell_type": "code",
   "execution_count": null,
   "metadata": {},
   "outputs": [],
   "source": []
  }
 ],
 "metadata": {
  "kernelspec": {
   "display_name": "Python 3",
   "language": "python",
   "name": "python3"
  },
  "language_info": {
   "codemirror_mode": {
    "name": "ipython",
    "version": 3
   },
   "file_extension": ".py",
   "mimetype": "text/x-python",
   "name": "python",
   "nbconvert_exporter": "python",
   "pygments_lexer": "ipython3",
   "version": "3.7.6"
  }
 },
 "nbformat": 4,
 "nbformat_minor": 4
}

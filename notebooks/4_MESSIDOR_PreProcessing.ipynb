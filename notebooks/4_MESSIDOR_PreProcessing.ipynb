{
 "cells": [
  {
   "cell_type": "code",
   "execution_count": 1,
   "metadata": {},
   "outputs": [],
   "source": [
    "import numpy as np\n",
    "import splitfolders\n",
    "import os"
   ]
  },
  {
   "cell_type": "code",
   "execution_count": 2,
   "metadata": {},
   "outputs": [
    {
     "name": "stdout",
     "output_type": "stream",
     "text": [
      "/Users/memanuel0109/Code/Github/Retina_Image_Recognition/notebooks\r\n"
     ]
    }
   ],
   "source": [
    "! pwd"
   ]
  },
  {
   "cell_type": "code",
   "execution_count": 3,
   "metadata": {},
   "outputs": [
    {
     "name": "stderr",
     "output_type": "stream",
     "text": [
      "Copying files: 1038 files [00:19, 53.06 files/s]\n"
     ]
    }
   ],
   "source": [
    "# split data into train, test, and validate for binary input\n",
    "input_folder = '../data/MESSIDOR_images/unfiltered/binary_classification'\n",
    "output_folder = '../data/MESSIDOR_images/unfiltered/'\n",
    "splitfolders.ratio(input_folder, output_folder, seed=123, ratio=(.8, .1, .1))"
   ]
  },
  {
   "cell_type": "code",
   "execution_count": 4,
   "metadata": {},
   "outputs": [
    {
     "name": "stderr",
     "output_type": "stream",
     "text": [
      "Copying files: 1038 files [00:16, 64.05 files/s]\n"
     ]
    }
   ],
   "source": [
    "# split data into train, test, and validate for binary input\n",
    "input_folder = '../data/MESSIDOR_images/filtered/binary_classification'\n",
    "output_folder = '../data/MESSIDOR_images/filtered/'\n",
    "splitfolders.ratio(input_folder, output_folder, seed=123, ratio=(.8, .1, .1))"
   ]
  },
  {
   "cell_type": "code",
   "execution_count": 5,
   "metadata": {},
   "outputs": [
    {
     "name": "stderr",
     "output_type": "stream",
     "text": [
      "Copying files: 1038 files [00:18, 55.24 files/s]\n"
     ]
    }
   ],
   "source": [
    "# split data into train, test, and validate for binary input\n",
    "input_folder = '../data/MESSIDOR_images/grayscale/binary_classification'\n",
    "output_folder = '../data/MESSIDOR_images/grayscale/'\n",
    "splitfolders.ratio(input_folder, output_folder, seed=123, ratio=(.8, .1, .1))"
   ]
  },
  {
   "cell_type": "code",
   "execution_count": null,
   "metadata": {},
   "outputs": [],
   "source": []
  }
 ],
 "metadata": {
  "kernelspec": {
   "display_name": "Python 3",
   "language": "python",
   "name": "python3"
  },
  "language_info": {
   "codemirror_mode": {
    "name": "ipython",
    "version": 3
   },
   "file_extension": ".py",
   "mimetype": "text/x-python",
   "name": "python",
   "nbconvert_exporter": "python",
   "pygments_lexer": "ipython3",
   "version": "3.7.6"
  }
 },
 "nbformat": 4,
 "nbformat_minor": 4
}

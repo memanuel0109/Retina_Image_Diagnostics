{
 "cells": [
  {
   "cell_type": "code",
   "execution_count": 1,
   "metadata": {},
   "outputs": [],
   "source": [
    "import tensorflow as tf\n",
    "import keras \n",
    "from keras import backend as K\n",
    "import numpy as np\n",
    "\n",
    "from keras.models import Sequential\n",
    "from keras.layers import Conv2D,MaxPooling2D,Flatten,Dense,Activation\n",
    "from keras.optimizers import Adam\n",
    "from keras.metrics import categorical_crossentropy\n",
    "\n",
    "from keras.preprocessing.image import ImageDataGenerator\n",
    "from keras.layers.normalization import BatchNormalization\n",
    "from keras.applications.inception_v3 import preprocess_input\n",
    "from keras.utils import to_categorical\n",
    "\n",
    "from skimage import color, filters, exposure, morphology\n",
    "\n",
    "from sklearn.metrics import confusion_matrix\n",
    "\n",
    "import os\n",
    "import glob\n",
    "\n",
    "from warnings import simplefilter\n",
    "simplefilter(action='ignore', category=FutureWarning)\n",
    "\n",
    "import matplotlib.pyplot as plt\n",
    "import seaborn as sns\n",
    "%matplotlib inline"
   ]
  },
  {
   "cell_type": "code",
   "execution_count": 2,
   "metadata": {},
   "outputs": [],
   "source": [
    "train_path = '../data/MESSIDOR_images/filtered/train'\n",
    "val_path = '../data/MESSIDOR_images/filtered/val'\n",
    "test_path = '../data/MESSIDOR_images/filtered/test'"
   ]
  },
  {
   "cell_type": "code",
   "execution_count": 21,
   "metadata": {},
   "outputs": [
    {
     "name": "stdout",
     "output_type": "stream",
     "text": [
      "Found 829 images belonging to 2 classes.\n",
      "Found 106 images belonging to 2 classes.\n",
      "Found 103 images belonging to 2 classes.\n"
     ]
    }
   ],
   "source": [
    "train_batches = ImageDataGenerator(rescale=1./255)\\\n",
    "    .flow_from_directory(directory=train_path, target_size=(224, 224), color_mode='rgb', classes=['NoDR','DR'],\n",
    "                         batch_size=len(glob.glob(train_path+'/*/*')), seed=9)\n",
    "\n",
    "test_batches = ImageDataGenerator(rescale=1./255)\\\n",
    "    .flow_from_directory(directory=test_path, target_size=(224, 224), color_mode='rgb', classes=['NoDR','DR'],\n",
    "                         batch_size=len(glob.glob(test_path+'/*/*')), seed=9)\n",
    "\n",
    "val_batches = ImageDataGenerator(rescale=1./255)\\\n",
    "    .flow_from_directory(directory=val_path, target_size=(224, 224), color_mode='rgb', classes=['NoDR','DR'],\n",
    "                         batch_size=len(glob.glob(val_path+'/*/*')), seed=9)"
   ]
  },
  {
   "cell_type": "code",
   "execution_count": 22,
   "metadata": {},
   "outputs": [],
   "source": [
    "train_image, train_label = next(train_batches)\n",
    "test_image, test_label = next(test_batches)\n",
    "val_image, val_label = next(val_batches)"
   ]
  },
  {
   "cell_type": "code",
   "execution_count": null,
   "metadata": {},
   "outputs": [],
   "source": []
  },
  {
   "cell_type": "code",
   "execution_count": 3,
   "metadata": {},
   "outputs": [],
   "source": [
    "train_datagen = ImageDataGenerator(\n",
    "    preprocessing_function=preprocess_input,\n",
    "    rescale=(1/255),\n",
    "    width_shift_range=0.2,\n",
    "    height_shift_range=0.2,\n",
    "    shear_range=0.2,\n",
    "    zoom_range=0.2,\n",
    "    horizontal_flip=True\n",
    ")\n",
    "\n",
    "test_datagen = ImageDataGenerator(\n",
    "    preprocessing_function=preprocess_input,\n",
    "    rescale=(1/255),\n",
    "    width_shift_range = 0.2,\n",
    "    height_shift_range = 0.2,\n",
    "    shear_range = 0.2,\n",
    "    zoom_range = 0.2,\n",
    "    horizontal_flip = True\n",
    ")\n",
    "\n",
    "val_datagen = ImageDataGenerator(\n",
    "    preprocessing_function=preprocess_input,\n",
    "    rescale=(1/255),\n",
    "    width_shift_range = 0.2,\n",
    "    height_shift_range = 0.2,\n",
    "    shear_range = 0.2,\n",
    "    zoom_range = 0.2,\n",
    "    horizontal_flip = True,\n",
    ")"
   ]
  },
  {
   "cell_type": "code",
   "execution_count": 27,
   "metadata": {},
   "outputs": [
    {
     "ename": "NameError",
     "evalue": "name 'flip_horizontal' is not defined",
     "output_type": "error",
     "traceback": [
      "\u001b[0;31m---------------------------------------------------------------------------\u001b[0m",
      "\u001b[0;31mNameError\u001b[0m                                 Traceback (most recent call last)",
      "\u001b[0;32m<ipython-input-27-9af81263ff8a>\u001b[0m in \u001b[0;36m<module>\u001b[0;34m\u001b[0m\n\u001b[1;32m      1\u001b[0m \u001b[0mflipped_test\u001b[0m \u001b[0;34m=\u001b[0m \u001b[0;34m[\u001b[0m\u001b[0;34m]\u001b[0m\u001b[0;34m\u001b[0m\u001b[0;34m\u001b[0m\u001b[0m\n\u001b[1;32m      2\u001b[0m \u001b[0;32mfor\u001b[0m \u001b[0mimage\u001b[0m \u001b[0;32min\u001b[0m \u001b[0mtest_image\u001b[0m\u001b[0;34m:\u001b[0m\u001b[0;34m\u001b[0m\u001b[0;34m\u001b[0m\u001b[0m\n\u001b[0;32m----> 3\u001b[0;31m     \u001b[0mim\u001b[0m \u001b[0;34m=\u001b[0m \u001b[0mtrain_datagen\u001b[0m\u001b[0;34m.\u001b[0m\u001b[0mapply_transform\u001b[0m\u001b[0;34m(\u001b[0m\u001b[0mimage\u001b[0m\u001b[0;34m,\u001b[0m \u001b[0mflip_horizontal\u001b[0m\u001b[0;34m)\u001b[0m\u001b[0;34m\u001b[0m\u001b[0;34m\u001b[0m\u001b[0m\n\u001b[0m\u001b[1;32m      4\u001b[0m     \u001b[0mflipped_test\u001b[0m\u001b[0;34m.\u001b[0m\u001b[0mappend\u001b[0m\u001b[0;34m(\u001b[0m\u001b[0mim\u001b[0m\u001b[0;34m)\u001b[0m\u001b[0;34m\u001b[0m\u001b[0;34m\u001b[0m\u001b[0m\n",
      "\u001b[0;31mNameError\u001b[0m: name 'flip_horizontal' is not defined"
     ]
    }
   ],
   "source": [
    "flipped_test = []\n",
    "for image in test_image:\n",
    "    im = train_datagen.apply_transform(image, flip_horizontal)\n",
    "    flipped_test.append(im)"
   ]
  },
  {
   "cell_type": "code",
   "execution_count": 4,
   "metadata": {},
   "outputs": [
    {
     "name": "stdout",
     "output_type": "stream",
     "text": [
      "Found 829 images belonging to 2 classes.\n"
     ]
    }
   ],
   "source": [
    "train_generator = train_datagen.flow_from_directory(train_path,\n",
    "                                                    target_size=(224,224),\n",
    "                                                    save_to_dir='../data/MESSIDOR_images/filtered/resample_train')"
   ]
  },
  {
   "cell_type": "code",
   "execution_count": 6,
   "metadata": {},
   "outputs": [],
   "source": [
    "i=0\n",
    "for batch in train_generator:\n",
    "    i+=1\n",
    "    if (i>10):\n",
    "        break"
   ]
  },
  {
   "cell_type": "code",
   "execution_count": 17,
   "metadata": {},
   "outputs": [],
   "source": [
    "sample_length = len(glob.glob('../data/MESSIDOR_images/filtered/resample_train/*'))"
   ]
  },
  {
   "cell_type": "code",
   "execution_count": 18,
   "metadata": {},
   "outputs": [],
   "source": [
    "resample_labels = []\n",
    "i=0\n",
    "for label in next(train_generator)[1]:\n",
    "    resample_labels.append(label)\n",
    "    i+=1\n",
    "    if (i>sample_length):\n",
    "        break"
   ]
  },
  {
   "cell_type": "code",
   "execution_count": 20,
   "metadata": {},
   "outputs": [
    {
     "data": {
      "text/plain": [
       "<tensorflow.python.keras.preprocessing.image.DirectoryIterator at 0x7fcc577e8950>"
      ]
     },
     "execution_count": 20,
     "metadata": {},
     "output_type": "execute_result"
    }
   ],
   "source": [
    "train_generator"
   ]
  },
  {
   "cell_type": "code",
   "execution_count": 19,
   "metadata": {},
   "outputs": [
    {
     "data": {
      "text/plain": [
       "32"
      ]
     },
     "execution_count": 19,
     "metadata": {},
     "output_type": "execute_result"
    }
   ],
   "source": [
    "len(resample_labels)"
   ]
  },
  {
   "cell_type": "code",
   "execution_count": 7,
   "metadata": {},
   "outputs": [],
   "source": [
    "image, value = next(train_generator)"
   ]
  },
  {
   "cell_type": "code",
   "execution_count": 11,
   "metadata": {},
   "outputs": [
    {
     "data": {
      "text/plain": [
       "array([[1., 0.],\n",
       "       [1., 0.],\n",
       "       [1., 0.],\n",
       "       [0., 1.],\n",
       "       [1., 0.],\n",
       "       [1., 0.],\n",
       "       [1., 0.],\n",
       "       [1., 0.],\n",
       "       [0., 1.],\n",
       "       [1., 0.],\n",
       "       [0., 1.],\n",
       "       [0., 1.],\n",
       "       [0., 1.],\n",
       "       [1., 0.],\n",
       "       [0., 1.],\n",
       "       [0., 1.],\n",
       "       [1., 0.],\n",
       "       [0., 1.],\n",
       "       [1., 0.],\n",
       "       [1., 0.],\n",
       "       [1., 0.],\n",
       "       [1., 0.],\n",
       "       [0., 1.],\n",
       "       [0., 1.],\n",
       "       [0., 1.],\n",
       "       [0., 1.],\n",
       "       [0., 1.],\n",
       "       [1., 0.],\n",
       "       [0., 1.],\n",
       "       [0., 1.],\n",
       "       [1., 0.],\n",
       "       [0., 1.]], dtype=float32)"
      ]
     },
     "execution_count": 11,
     "metadata": {},
     "output_type": "execute_result"
    }
   ],
   "source": [
    "next(train_generator)[1]"
   ]
  },
  {
   "cell_type": "code",
   "execution_count": 6,
   "metadata": {},
   "outputs": [
    {
     "name": "stdout",
     "output_type": "stream",
     "text": [
      "Found 959 images belonging to 2 classes.\n",
      "Found 122 images belonging to 2 classes.\n",
      "Found 119 images belonging to 2 classes.\n"
     ]
    }
   ],
   "source": [
    "train_batches = ImageDataGenerator(rescale=1./255)\\\n",
    "    .flow_from_directory(directory=train_path, target_size=(224, 224), color_mode='rgb', classes=['NoDR','DR'],\n",
    "                         batch_size=len(glob.glob(train_path+'/*/*')), seed=9)\n",
    "\n",
    "test_batches = ImageDataGenerator(rescale=1./255)\\\n",
    "    .flow_from_directory(directory=test_path, target_size=(224, 224), color_mode='rgb', classes=['NoDR','DR'],\n",
    "                         batch_size=len(glob.glob(test_path+'/*/*')), seed=9)\n",
    "\n",
    "val_batches = ImageDataGenerator(rescale=1./255)\\\n",
    "    .flow_from_directory(directory=val_path, target_size=224, 224), color_mode='rgb', classes=['NoDR','DR'],\n",
    "                         batch_size=len(glob.glob(val_path+'/*/*')), seed=9)"
   ]
  },
  {
   "cell_type": "code",
   "execution_count": 7,
   "metadata": {},
   "outputs": [],
   "source": [
    "train_image, train_label = next(train_batches)\n",
    "test_image, test_label = next(test_batches)\n",
    "val_image, val_label = next(val_batches)"
   ]
  },
  {
   "cell_type": "code",
   "execution_count": null,
   "metadata": {},
   "outputs": [],
   "source": [
    "def flip_image(image_array):\n",
    "    img = [np.fliplr(image) for image in image_array]\n",
    "    return img"
   ]
  },
  {
   "cell_type": "code",
   "execution_count": null,
   "metadata": {},
   "outputs": [],
   "source": [
    "def default_function(image_array):\n",
    "    img = image_array\n",
    "    return img"
   ]
  },
  {
   "cell_type": "code",
   "execution_count": null,
   "metadata": {},
   "outputs": [],
   "source": [
    "def flip_images(name_series,output_folder,image_series, function=default_function, append_name=''): \n",
    "    \"\"\"Saves image by diagnosis and applies a function and appends a name if stated\"\"\"\n",
    "    input_name=name_series.values\n",
    "    output_folder=output_folder\n",
    "    \n",
    "    indexer = 0\n",
    "    \n",
    "    for imagePath in input_name:\n",
    "        \n",
    "        input_array = image_series[indexer]\n",
    "        \n",
    "        filtered_image = function(input_array)\n",
    "        \n",
    "        img = Image.fromarray(filtered_image)\n",
    "        \n",
    "        fullOutPath = os.path.join(output_folder,append_name+imagePath) \n",
    "        \n",
    "        img.save(fullOutPath)\n",
    "        \n",
    "        indexer += 1 "
   ]
  },
  {
   "cell_type": "code",
   "execution_count": null,
   "metadata": {},
   "outputs": [],
   "source": [
    "train_gen = train_datagen.flow_from_directory\\\n",
    "    (directory=train_path,\n",
    "     target_size=(224,224),\n",
    "     save_to_dir='../data/MESSIDOR_images/filtered/train_resampled')"
   ]
  },
  {
   "cell_type": "code",
   "execution_count": null,
   "metadata": {},
   "outputs": [],
   "source": [
    "val_datagen.flow_from_directory\\\n",
    "    (directory=val_path,\n",
    "     target_size=(224,224),\n",
    "     color_mode='rgb',\n",
    "     classes=['NoDR','DR'],\n",
    "     save_to_dir='../data/MESSIDOR_images/filtered/val_resampled',\n",
    "     seed=9)"
   ]
  },
  {
   "cell_type": "code",
   "execution_count": null,
   "metadata": {},
   "outputs": [],
   "source": [
    "for e in range(epochs):\n",
    "    print('Epoch', e)\n",
    "    batches = 0\n",
    "    for x_batch, y_batch in train_datagen.flow_from_directory\\\n",
    "    (train_path, batch_size=32, target_size=(224, 224)):\n",
    "        cnn.fit(x_batch, y_batch)\n",
    "        batches += 1\n",
    "        if batches >= len(glob.glob(train_path+'/*/*'))*5:\n",
    "            break"
   ]
  },
  {
   "cell_type": "code",
   "execution_count": null,
   "metadata": {},
   "outputs": [],
   "source": [
    "model.fit(datagen.flow(x_train, y_train, batch_size=32),\n",
    "          steps_per_epoch=len(x_train) / 32, epochs=epochs)"
   ]
  },
  {
   "cell_type": "code",
   "execution_count": null,
   "metadata": {},
   "outputs": [],
   "source": [
    "i = 0\n",
    "train_generator = train_datagen.flow_from_directory\\\n",
    "    (directory=train_path,\n",
    "     target_size=(224,224,3),\n",
    "     color_mode='rgb',\n",
    "     classes=['NoDR','DR'],\n",
    "     save_to_dir='../data/MESSIDOR_images/filtered/train_resampled',\n",
    "     batch_size=len(glob.glob(train_path+'/*/*')),\n",
    "     seed=9)"
   ]
  },
  {
   "cell_type": "code",
   "execution_count": null,
   "metadata": {},
   "outputs": [],
   "source": [
    "test_generator = test_datagen.flow_from_directory\\\n",
    "    (directory=test_path,\n",
    "     target_size=(224,224,3),\n",
    "     color_mode='rgb',\n",
    "     classes=['NoDR','DR'],\n",
    "     save_to_dir='../data/MESSIDOR_images/filtered/test_resampled',\n",
    "     batch_size=len(glob.glob(train_path+'/*/*')),\n",
    "     seed=9)"
   ]
  },
  {
   "cell_type": "code",
   "execution_count": null,
   "metadata": {},
   "outputs": [],
   "source": [
    "val_datagen.flow_from_directory\\\n",
    "    (directory=val_path,\n",
    "     target_size=(224,224),\n",
    "     color_mode='rgb',\n",
    "     classes=['NoDR','DR'],\n",
    "     save_to_dir='../data/MESSIDOR_images/filtered/val_resampled',\n",
    "     seed=9)"
   ]
  },
  {
   "cell_type": "code",
   "execution_count": null,
   "metadata": {},
   "outputs": [],
   "source": [
    "train_datagen.flow_from_directory\\\n",
    "    (directory=train_path,\n",
    "     target_size=(224,224),\n",
    "     save_to_dir='../data/MESSIDOR_images/filtered/train_resampled')"
   ]
  },
  {
   "cell_type": "code",
   "execution_count": null,
   "metadata": {},
   "outputs": [],
   "source": [
    "horizontally_flipped = np.fliplr(rocket_image)\n",
    "show_image(horizontally_flipped, 'horizontally flipped image')"
   ]
  }
 ],
 "metadata": {
  "kernelspec": {
   "display_name": "Python 3",
   "language": "python",
   "name": "python3"
  },
  "language_info": {
   "codemirror_mode": {
    "name": "ipython",
    "version": 3
   },
   "file_extension": ".py",
   "mimetype": "text/x-python",
   "name": "python",
   "nbconvert_exporter": "python",
   "pygments_lexer": "ipython3",
   "version": "3.7.6"
  }
 },
 "nbformat": 4,
 "nbformat_minor": 4
}
